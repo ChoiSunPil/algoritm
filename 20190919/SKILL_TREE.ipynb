{
 "cells": [
  {
   "cell_type": "code",
   "execution_count": 40,
   "metadata": {},
   "outputs": [
    {
     "name": "stdout",
     "output_type": "stream",
     "text": [
      "2\n"
     ]
    }
   ],
   "source": [
    "def solution(skill, skill_trees):\n",
    "    answer = 0\n",
    "    \n",
    "    for data1 in skill_trees:\n",
    "        skill_list =[]\n",
    "        check = True\n",
    "        for data2 in skill:\n",
    "            skill_list.append(data1.find(data2))\n",
    "    \n",
    "        \n",
    "        for i in range(1,len(skill_list)):\n",
    "            \n",
    "            if (skill_list[i-1] == -1 and skill_list[i-1] < skill_list[i]) or (skill_list[i] != -1 and skill_list[i-1] > skill_list[i]):\n",
    "                check = False\n",
    "                break\n",
    "        \n",
    "        if check == True:\n",
    "            answer =answer+1\n",
    "    \n",
    "    return answer\n",
    "\n",
    "\n",
    "print(solution(\"CBD\",[\"BACDE\", \"CBADF\", \"AECB\", \"BDA\"]))"
   ]
  },
  {
   "cell_type": "code",
   "execution_count": null,
   "metadata": {},
   "outputs": [],
   "source": []
  }
 ],
 "metadata": {
  "kernelspec": {
   "display_name": "Python 3",
   "language": "python",
   "name": "python3"
  },
  "language_info": {
   "codemirror_mode": {
    "name": "ipython",
    "version": 3
   },
   "file_extension": ".py",
   "mimetype": "text/x-python",
   "name": "python",
   "nbconvert_exporter": "python",
   "pygments_lexer": "ipython3",
   "version": "3.6.8"
  }
 },
 "nbformat": 4,
 "nbformat_minor": 2
}
